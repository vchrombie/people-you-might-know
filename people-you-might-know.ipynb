{
 "cells": [
  {
   "cell_type": "code",
   "execution_count": 1,
   "id": "0a7fd023",
   "metadata": {},
   "outputs": [
    {
     "name": "stderr",
     "output_type": "stream",
     "text": [
      "Setting default log level to \"WARN\".\n",
      "To adjust logging level use sc.setLogLevel(newLevel). For SparkR, use setLogLevel(newLevel).\n"
     ]
    },
    {
     "name": "stdout",
     "output_type": "stream",
     "text": [
      "23/03/15 04:49:31 WARN NativeCodeLoader: Unable to load native-hadoop library for your platform... using builtin-java classes where applicable\n",
      "23/03/15 04:49:33 WARN Utils: Service 'SparkUI' could not bind on port 4040. Attempting port 4041.\n"
     ]
    },
    {
     "data": {
      "text/html": [
       "\n",
       "            <div>\n",
       "                <p><b>SparkSession - in-memory</b></p>\n",
       "                \n",
       "        <div>\n",
       "            <p><b>SparkContext</b></p>\n",
       "\n",
       "            <p><a href=\"http://jupyter-vt2182:4041\">Spark UI</a></p>\n",
       "\n",
       "            <dl>\n",
       "              <dt>Version</dt>\n",
       "                <dd><code>v3.3.1</code></dd>\n",
       "              <dt>Master</dt>\n",
       "                <dd><code>local[*]</code></dd>\n",
       "              <dt>AppName</dt>\n",
       "                <dd><code>pyspark-shell</code></dd>\n",
       "            </dl>\n",
       "        </div>\n",
       "        \n",
       "            </div>\n",
       "        "
      ],
      "text/plain": [
       "<pyspark.sql.session.SparkSession at 0x7f5f1008e320>"
      ]
     },
     "execution_count": 1,
     "metadata": {},
     "output_type": "execute_result"
    }
   ],
   "source": [
    "import os\n",
    "import pyspark\n",
    "conf = pyspark.SparkConf()\n",
    "conf.set('spark.ui.proxyBase', '/user/' + os.environ['JUPYTERHUB_USER'] + '/proxy/4040')\n",
    "\n",
    "sc = pyspark.SparkContext(conf=conf)\n",
    "spark = pyspark.sql.SparkSession(sc)\n",
    "spark"
   ]
  },
  {
   "cell_type": "code",
   "execution_count": 2,
   "id": "fcb2bf91",
   "metadata": {},
   "outputs": [],
   "source": [
    "from pyspark.sql.functions import *\n",
    "from pyspark.sql.window import Window"
   ]
  },
  {
   "cell_type": "code",
   "execution_count": 3,
   "id": "efebaefe",
   "metadata": {},
   "outputs": [
    {
     "name": "stderr",
     "output_type": "stream",
     "text": [
      "                                                                                \r"
     ]
    },
    {
     "name": "stdout",
     "output_type": "stream",
     "text": [
      "root\n",
      " |-- user_id: string (nullable = true)\n",
      " |-- friends_list: array (nullable = true)\n",
      " |    |-- element: string (containsNull = false)\n",
      "\n"
     ]
    },
    {
     "name": "stderr",
     "output_type": "stream",
     "text": [
      "                                                                                \r"
     ]
    },
    {
     "name": "stdout",
     "output_type": "stream",
     "text": [
      "+-------+--------------------+\n",
      "|user_id|        friends_list|\n",
      "+-------+--------------------+\n",
      "|      0|[1, 2, 3, 4, 5, 6...|\n",
      "|      1|[0, 5, 20, 135, 2...|\n",
      "|      2|[0, 117, 135, 122...|\n",
      "|      3|[0, 12, 41, 55, 1...|\n",
      "|      4|[0, 8, 14, 15, 18...|\n",
      "+-------+--------------------+\n",
      "only showing top 5 rows\n",
      "\n"
     ]
    }
   ],
   "source": [
    "# Read the input file and create a data frame with user ID and friends list\n",
    "users_df = spark.read.option(\"delimiter\", \"\\t\").csv(\"Friends.txt\") \\\n",
    "                    .withColumnRenamed(\"_c0\", \"user_id\") \\\n",
    "                    .withColumnRenamed(\"_c1\", \"friends\") \\\n",
    "                    .select(\"user_id\", split(\"friends\", \",\").alias(\"friends_list\"))\n",
    "\n",
    "users_df.printSchema()\n",
    "users_df.count()\n",
    "users_df.show(5)"
   ]
  },
  {
   "cell_type": "code",
   "execution_count": 4,
   "id": "8231a78a",
   "metadata": {},
   "outputs": [
    {
     "name": "stdout",
     "output_type": "stream",
     "text": [
      "root\n",
      " |-- user1_id: string (nullable = true)\n",
      " |-- user2_id: string (nullable = true)\n",
      " |-- num_mutual_friends: integer (nullable = false)\n",
      "\n"
     ]
    },
    {
     "name": "stderr",
     "output_type": "stream",
     "text": [
      "                                                                                \r"
     ]
    },
    {
     "name": "stdout",
     "output_type": "stream",
     "text": [
      "+--------+--------+------------------+\n",
      "|user1_id|user2_id|num_mutual_friends|\n",
      "+--------+--------+------------------+\n",
      "|       0|       1|                 2|\n",
      "|       0|       3|                 3|\n",
      "|       0|       4|                 9|\n",
      "|       0|       5|                 2|\n",
      "|       0|       6|                 1|\n",
      "+--------+--------+------------------+\n",
      "only showing top 5 rows\n",
      "\n"
     ]
    }
   ],
   "source": [
    "# Find pairs of users with mutual friends and store in a new data frame\n",
    "mutual_friends_df = users_df.alias(\"u1\") \\\n",
    "                     .join(users_df.alias(\"u2\"), \n",
    "                           (col(\"u1.user_id\") != col(\"u2.user_id\")) & \n",
    "                           (size(array_intersect(col(\"u1.friends_list\"), col(\"u2.friends_list\"))) > 0)) \\\n",
    "                     .select(col(\"u1.user_id\").alias(\"user1_id\"), \n",
    "                             col(\"u2.user_id\").alias(\"user2_id\"), \n",
    "                             size(array_intersect(col(\"u1.friends_list\"), col(\"u2.friends_list\"))).alias(\"num_mutual_friends\"))\n",
    "\n",
    "mutual_friends_df.printSchema()\n",
    "mutual_friends_df.count()\n",
    "mutual_friends_df.show(5)"
   ]
  },
  {
   "cell_type": "code",
   "execution_count": 5,
   "id": "99a38b4e",
   "metadata": {},
   "outputs": [
    {
     "name": "stdout",
     "output_type": "stream",
     "text": [
      "root\n",
      " |-- user1_id: string (nullable = true)\n",
      " |-- mutual_friends_users: array (nullable = false)\n",
      " |    |-- element: string (containsNull = false)\n",
      " |-- user_id: string (nullable = true)\n",
      " |-- friends_list: array (nullable = true)\n",
      " |    |-- element: string (containsNull = false)\n",
      "\n"
     ]
    },
    {
     "name": "stderr",
     "output_type": "stream",
     "text": [
      "[Stage 21:>                                                         (0 + 1) / 1]\r"
     ]
    },
    {
     "name": "stdout",
     "output_type": "stream",
     "text": [
      "+--------+--------------------+-------+--------------------+\n",
      "|user1_id|mutual_friends_users|user_id|        friends_list|\n",
      "+--------+--------------------+-------+--------------------+\n",
      "|       0|[27554, 35776, 29...|      0|[1, 2, 3, 4, 5, 6...|\n",
      "|       1|[12846, 43447, 44...|      1|[0, 5, 20, 135, 2...|\n",
      "|      10|[1532, 29319, 295...|     10|[0, 12, 16, 30, 6...|\n",
      "|   10240|[35678, 1085, 351...|  10240|[19, 601, 660, 74...|\n",
      "|   10623|[12846, 35648, 43...|  10623|[1, 2249, 4376, 5...|\n",
      "+--------+--------------------+-------+--------------------+\n",
      "only showing top 5 rows\n",
      "\n"
     ]
    },
    {
     "name": "stderr",
     "output_type": "stream",
     "text": [
      "                                                                                \r"
     ]
    }
   ],
   "source": [
    "# Group by user1_id and collect the user2_id with mutual friends\n",
    "mutual_friends_users_df = mutual_friends_df \\\n",
    "    .groupBy(\"user1_id\") \\\n",
    "    .agg(collect_set(col(\"user2_id\")).alias(\"mutual_friends_users\")) \\\n",
    "    .join(users_df, (col(\"user1_id\") == col(\"user_id\")))\n",
    "\n",
    "mutual_friends_users_df.printSchema()\n",
    "mutual_friends_users_df.count()\n",
    "mutual_friends_users_df.show(5)"
   ]
  },
  {
   "cell_type": "code",
   "execution_count": 6,
   "id": "4a9d4d64",
   "metadata": {},
   "outputs": [
    {
     "name": "stdout",
     "output_type": "stream",
     "text": [
      "root\n",
      " |-- user1_id: string (nullable = true)\n",
      " |-- user2_id: string (nullable = false)\n",
      "\n"
     ]
    },
    {
     "name": "stderr",
     "output_type": "stream",
     "text": [
      "[Stage 34:>                                                         (0 + 1) / 1]\r"
     ]
    },
    {
     "name": "stdout",
     "output_type": "stream",
     "text": [
      "+--------+--------+\n",
      "|user1_id|user2_id|\n",
      "+--------+--------+\n",
      "|       0|   27554|\n",
      "|       0|   35776|\n",
      "|       0|   29319|\n",
      "|       0|   35678|\n",
      "|       0|   19079|\n",
      "+--------+--------+\n",
      "only showing top 5 rows\n",
      "\n"
     ]
    },
    {
     "name": "stderr",
     "output_type": "stream",
     "text": [
      "                                                                                \r"
     ]
    }
   ],
   "source": [
    "# Select the recommended users who are not already friends\n",
    "recommendations_df = mutual_friends_users_df.select(\n",
    "    \"user1_id\", \n",
    "    array_except(col(\"mutual_friends_users\"), col(\"friends_list\")).alias(\"recommended_users\")\n",
    ")\n",
    "\n",
    "# Explode the recommended users column into separate rows and rename columns\n",
    "recommendations_df = recommendations_df.select(\n",
    "    col(\"user1_id\").alias(\"user1_id\"),\n",
    "    explode(col(\"recommended_users\")).alias(\"user2_id\")\n",
    ")\n",
    "\n",
    "recommendations_df.printSchema()\n",
    "recommendations_df.count()\n",
    "recommendations_df.show(5)"
   ]
  },
  {
   "cell_type": "code",
   "execution_count": 23,
   "id": "0639fd8b",
   "metadata": {},
   "outputs": [
    {
     "name": "stdout",
     "output_type": "stream",
     "text": [
      "root\n",
      " |-- user1_id: string (nullable = true)\n",
      " |-- user2_id: string (nullable = true)\n",
      " |-- score: integer (nullable = false)\n",
      "\n"
     ]
    },
    {
     "name": "stderr",
     "output_type": "stream",
     "text": [
      "                                                                                \r"
     ]
    },
    {
     "name": "stdout",
     "output_type": "stream",
     "text": [
      "+--------+--------+-----+\n",
      "|user1_id|user2_id|score|\n",
      "+--------+--------+-----+\n",
      "|       0|   49226|    1|\n",
      "|       0|   45046|    1|\n",
      "|       1|      41|    2|\n",
      "|    1085|   49226|    2|\n",
      "|    1100|     439|   24|\n",
      "+--------+--------+-----+\n",
      "only showing top 5 rows\n",
      "\n"
     ]
    }
   ],
   "source": [
    "# Join mutual_friends_df and recommendations_df on user1_id and user2_id to get the score\n",
    "score_df = mutual_friends_df.join(\n",
    "    recommendations_df.select(\"user1_id\", \"user2_id\"),\n",
    "    [\"user1_id\", \"user2_id\"],\n",
    "    \"inner\"\n",
    ").withColumnRenamed(\"num_mutual_friends\", \"score\")\n",
    "\n",
    "score_df.printSchema()\n",
    "score_df.count()\n",
    "score_df.show(5)"
   ]
  },
  {
   "cell_type": "code",
   "execution_count": 24,
   "id": "acc9fa0f",
   "metadata": {},
   "outputs": [],
   "source": [
    "# Create a window function to rank the scores for each user1_id and user2_id pair\n",
    "window_spec = Window.partitionBy(col(\"user1_id\")).orderBy(col(\"score\").desc(), col(\"user2_id\").asc())"
   ]
  },
  {
   "cell_type": "code",
   "execution_count": 25,
   "id": "fff6aa6e",
   "metadata": {},
   "outputs": [
    {
     "name": "stdout",
     "output_type": "stream",
     "text": [
      "root\n",
      " |-- user1_id: string (nullable = true)\n",
      " |-- user2_id: string (nullable = true)\n",
      " |-- score: integer (nullable = false)\n",
      " |-- rank: integer (nullable = false)\n",
      "\n"
     ]
    },
    {
     "name": "stderr",
     "output_type": "stream",
     "text": [
      "                                                                                \r"
     ]
    },
    {
     "name": "stdout",
     "output_type": "stream",
     "text": [
      "+--------+--------+-----+----+\n",
      "|user1_id|user2_id|score|rank|\n",
      "+--------+--------+-----+----+\n",
      "|       0|   38737|    5|   1|\n",
      "|       0|    1532|    3|   2|\n",
      "|       0|   22939|    3|   3|\n",
      "|       0|   30691|    3|   4|\n",
      "|       0|   35589|    3|   5|\n",
      "|       0|   49678|    3|   6|\n",
      "|       0|   12570|    2|   7|\n",
      "|       0|   12636|    2|   8|\n",
      "|       0|   12846|    2|   9|\n",
      "|       0|     135|    2|  10|\n",
      "|       0|   19044|    2|  11|\n",
      "|       0|   19079|    2|  12|\n",
      "|       0|    2644|    2|  13|\n",
      "|       0|   27679|    2|  14|\n",
      "|       0|   28193|    2|  15|\n",
      "|       0|   29724|    2|  16|\n",
      "|       0|   29791|    2|  17|\n",
      "|       0|   30257|    2|  18|\n",
      "|       0|   31232|    2|  19|\n",
      "|       0|   32317|    2|  20|\n",
      "+--------+--------+-----+----+\n",
      "only showing top 20 rows\n",
      "\n"
     ]
    }
   ],
   "source": [
    "# Rank the scores for each user1_id and user2_id pair\n",
    "rank_df = score_df.withColumn(\"rank\", rank().over(window_spec))\n",
    "\n",
    "rank_df.printSchema()\n",
    "rank_df.count()\n",
    "rank_df.show()"
   ]
  },
  {
   "cell_type": "code",
   "execution_count": 26,
   "id": "afe78b49",
   "metadata": {},
   "outputs": [
    {
     "name": "stdout",
     "output_type": "stream",
     "text": [
      "root\n",
      " |-- user1_id: string (nullable = true)\n",
      " |-- user2_id: string (nullable = true)\n",
      " |-- score: integer (nullable = false)\n",
      " |-- rank: integer (nullable = false)\n",
      "\n"
     ]
    },
    {
     "name": "stderr",
     "output_type": "stream",
     "text": [
      "                                                                                \r"
     ]
    },
    {
     "name": "stdout",
     "output_type": "stream",
     "text": [
      "+--------+--------+-----+----+\n",
      "|user1_id|user2_id|score|rank|\n",
      "+--------+--------+-----+----+\n",
      "|       0|   38737|    5|   1|\n",
      "|       0|    1532|    3|   2|\n",
      "|       0|   22939|    3|   3|\n",
      "|       0|   30691|    3|   4|\n",
      "|       0|   35589|    3|   5|\n",
      "|       0|   49678|    3|   6|\n",
      "|       0|   12570|    2|   7|\n",
      "|       0|   12636|    2|   8|\n",
      "|       0|   12846|    2|   9|\n",
      "|       0|     135|    2|  10|\n",
      "|       1|   13793|    4|   1|\n",
      "|       1|    2659|    4|   2|\n",
      "|       1|    3734|    3|   3|\n",
      "|       1|   49574|    3|   4|\n",
      "|       1|      12|    2|   5|\n",
      "|       1|      13|    2|   6|\n",
      "|       1|      19|    2|   7|\n",
      "|       1|       2|    2|   8|\n",
      "|       1|    2022|    2|   9|\n",
      "|       1|   27679|    2|  10|\n",
      "+--------+--------+-----+----+\n",
      "only showing top 20 rows\n",
      "\n"
     ]
    }
   ],
   "source": [
    "# Filter out only the top 10 users for each user1_id\n",
    "rank_df = rank_df.filter(col(\"rank\") <= 10)\n",
    "\n",
    "rank_df.printSchema()\n",
    "rank_df.count()\n",
    "rank_df.show()"
   ]
  },
  {
   "cell_type": "code",
   "execution_count": 28,
   "id": "11d3de8e",
   "metadata": {},
   "outputs": [
    {
     "name": "stdout",
     "output_type": "stream",
     "text": [
      "root\n",
      " |-- user1_id: string (nullable = true)\n",
      " |-- top_users: array (nullable = false)\n",
      " |    |-- element: string (containsNull = false)\n",
      "\n"
     ]
    },
    {
     "name": "stderr",
     "output_type": "stream",
     "text": [
      "                                                                                \r"
     ]
    },
    {
     "name": "stdout",
     "output_type": "stream",
     "text": [
      "+--------+--------------------+\n",
      "|user1_id|           top_users|\n",
      "+--------+--------------------+\n",
      "|       0|[38737, 1532, 229...|\n",
      "|       1|[13793, 2659, 373...|\n",
      "|      10|[18, 38, 89, 11, ...|\n",
      "|   10240|[1100, 439, 2413,...|\n",
      "|   10623|[8715, 8932, 0, 1...|\n",
      "|    1085|[35613, 10240, 19...|\n",
      "|      11|[27552, 10, 12, 3...|\n",
      "|    1100|[439, 10240, 1220...|\n",
      "|   11142|[1220, 12633, 169...|\n",
      "|     117|[13793, 128, 1384...|\n",
      "|      12|[28, 18, 24, 8, 2...|\n",
      "|    1220|[1100, 10240, 267...|\n",
      "|   12347|[134, 35613, 3563...|\n",
      "|   12453|[2409, 38737, 984...|\n",
      "|   12562|[12570, 13, 16, 2...|\n",
      "|   12570|[20533, 20599, 95...|\n",
      "|   12584|[12570, 2413, 32,...|\n",
      "|   12633|[2659, 35678, 778...|\n",
      "|   12636|[38737, 38800, 0,...|\n",
      "|     128|[12570, 20533, 20...|\n",
      "+--------+--------------------+\n",
      "only showing top 20 rows\n",
      "\n"
     ]
    }
   ],
   "source": [
    "# Group by user1_id and collect the top 10 user2_id for each user1_id\n",
    "top_users_df = rank_df.groupBy(\"user1_id\").agg(collect_list(\"user2_id\").alias(\"top_users\"))\n",
    "\n",
    "top_users_df.printSchema()\n",
    "top_users_df.count()\n",
    "top_users_df.show()"
   ]
  },
  {
   "cell_type": "code",
   "execution_count": 29,
   "id": "b1822c65",
   "metadata": {},
   "outputs": [
    {
     "name": "stderr",
     "output_type": "stream",
     "text": [
      "                                                                                \r"
     ]
    },
    {
     "data": {
      "text/plain": [
       "Row(user1_id='0', top_users=['38737', '1532', '22939', '30691', '35589', '49678', '12570', '12636', '12846', '135'])"
      ]
     },
     "execution_count": 29,
     "metadata": {},
     "output_type": "execute_result"
    }
   ],
   "source": [
    "top_users_df.head()"
   ]
  },
  {
   "cell_type": "code",
   "execution_count": null,
   "id": "9a0a454d",
   "metadata": {},
   "outputs": [],
   "source": []
  }
 ],
 "metadata": {
  "kernelspec": {
   "display_name": "Python [conda env:bigdata]",
   "language": "python",
   "name": "conda-env-bigdata-py"
  },
  "language_info": {
   "codemirror_mode": {
    "name": "ipython",
    "version": 3
   },
   "file_extension": ".py",
   "mimetype": "text/x-python",
   "name": "python",
   "nbconvert_exporter": "python",
   "pygments_lexer": "ipython3",
   "version": "3.10.9"
  }
 },
 "nbformat": 4,
 "nbformat_minor": 5
}
